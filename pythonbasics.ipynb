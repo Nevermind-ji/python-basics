{
  "nbformat": 4,
  "nbformat_minor": 0,
  "metadata": {
    "colab": {
      "provenance": []
    },
    "kernelspec": {
      "name": "python3",
      "display_name": "Python 3"
    },
    "language_info": {
      "name": "python"
    }
  },
  "cells": [
    {
      "cell_type": "markdown",
      "source": [
        "1. easy syntax, huge community and extensive libraries.\n",
        "\n",
        "2. interpreter executes code line by line that converts code to machine language at run time.\n",
        "\n",
        "3. special words that are part of syntax of python.\n",
        "4. no\n",
        "5. The ability of an object to be changed after creation.\n",
        "6. lists can be changed, that means value of an existing element in list can be changed but not in tuples.\n",
        "7. == checks if value of two things is same while 'is' checks if two things share same space in memory.\n",
        "8. and, or, not\n",
        "9. conversion of a certain data type to another(implicit or explicit)\n",
        "10. implicit is done automatically by pythonwhile explicit is done manually using inbuilt functions.\n",
        "11. To control the flow of program and make decisions based on conditions.\n",
        "12. elif helps to check various conditions in a sequence.\n",
        "13. for is used when you know how many times to loop and while is used when number of times is not known but a condition has to be false to stop the loop.\n",
        "14. when one wants to program a quiz for a toddler and end program when he/she gives correct answer, then while loop is better."
      ],
      "metadata": {
        "id": "7QEaVJwmnC-_"
      }
    },
    {
      "cell_type": "code",
      "source": [
        "print(\"Hello, World!\")"
      ],
      "metadata": {
        "id": "JgjhH3l6r6Wv",
        "colab": {
          "base_uri": "https://localhost:8080/"
        },
        "outputId": "d895c06a-f7d4-4ed4-9353-e7e702269747"
      },
      "execution_count": 3,
      "outputs": [
        {
          "output_type": "stream",
          "name": "stdout",
          "text": [
            "Hello, World!\n"
          ]
        }
      ]
    },
    {
      "cell_type": "code",
      "source": [
        "print(\"Tanay Saxena\")\n",
        "print(\"18\")"
      ],
      "metadata": {
        "id": "xiD9f4iXstgD",
        "colab": {
          "base_uri": "https://localhost:8080/"
        },
        "outputId": "22737daa-7bd3-402b-a2c7-771017ee4b3f"
      },
      "execution_count": 2,
      "outputs": [
        {
          "output_type": "stream",
          "name": "stdout",
          "text": [
            "Tanay Saxena\n",
            "18\n"
          ]
        }
      ]
    },
    {
      "cell_type": "code",
      "source": [
        "import keyword\n",
        "print(\"Python Keywords:\")\n",
        "print(keyword.kwlist)\n"
      ],
      "metadata": {
        "id": "HKW_9jDfss8F",
        "colab": {
          "base_uri": "https://localhost:8080/"
        },
        "outputId": "2a422821-4e7f-4467-d855-cefd5312113c"
      },
      "execution_count": 1,
      "outputs": [
        {
          "output_type": "stream",
          "name": "stdout",
          "text": [
            "Python Keywords:\n",
            "['False', 'None', 'True', 'and', 'as', 'assert', 'async', 'await', 'break', 'class', 'continue', 'def', 'del', 'elif', 'else', 'except', 'finally', 'for', 'from', 'global', 'if', 'import', 'in', 'is', 'lambda', 'nonlocal', 'not', 'or', 'pass', 'raise', 'return', 'try', 'while', 'with', 'yield']\n"
          ]
        }
      ]
    },
    {
      "cell_type": "code",
      "source": [
        "def check(word):\n",
        " return keyword.iskeyword(word)\n",
        "\n",
        "wordtocheck='for'\n",
        "if check(wordtocheck):\n",
        " print(\"Is a key word\")\n",
        "else:\n",
        " print(\"Is not a key word\")\n",
        ""
      ],
      "metadata": {
        "id": "eMJIHjlTtR7Q",
        "colab": {
          "base_uri": "https://localhost:8080/"
        },
        "outputId": "90c2f99f-fe54-4846-c805-e4f4f6c3e74c"
      },
      "execution_count": 9,
      "outputs": [
        {
          "output_type": "stream",
          "name": "stdout",
          "text": [
            "Is a key word\n"
          ]
        }
      ]
    },
    {
      "cell_type": "code",
      "source": [
        "lis = [1, 2, 5, \"hello\", \"come\", \"in\"]\n",
        "print(lis)\n",
        "lis[4]=\"go\"\n",
        "print(lis)\n",
        "\n",
        "tup = (1, 2, 5, \"hello\", \"come\", \"in\")\n",
        "print(tup)\n",
        "tup[4]=\"go\"\n",
        "print(tup)"
      ],
      "metadata": {
        "colab": {
          "base_uri": "https://localhost:8080/",
          "height": 245
        },
        "id": "XNoGCjtpeept",
        "outputId": "62ee2d13-7cc9-4af2-9137-2870fc7db203"
      },
      "execution_count": 10,
      "outputs": [
        {
          "output_type": "stream",
          "name": "stdout",
          "text": [
            "[1, 2, 5, 'hello', 'come', 'in']\n",
            "[1, 2, 5, 'hello', 'go', 'in']\n",
            "(1, 2, 5, 'hello', 'come', 'in')\n"
          ]
        },
        {
          "output_type": "error",
          "ename": "TypeError",
          "evalue": "'tuple' object does not support item assignment",
          "traceback": [
            "\u001b[0;31m---------------------------------------------------------------------------\u001b[0m",
            "\u001b[0;31mTypeError\u001b[0m                                 Traceback (most recent call last)",
            "\u001b[0;32m/tmp/ipython-input-10-2543050573.py\u001b[0m in \u001b[0;36m<cell line: 0>\u001b[0;34m()\u001b[0m\n\u001b[1;32m      6\u001b[0m \u001b[0mtup\u001b[0m \u001b[0;34m=\u001b[0m \u001b[0;34m(\u001b[0m\u001b[0;36m1\u001b[0m\u001b[0;34m,\u001b[0m \u001b[0;36m2\u001b[0m\u001b[0;34m,\u001b[0m \u001b[0;36m5\u001b[0m\u001b[0;34m,\u001b[0m \u001b[0;34m\"hello\"\u001b[0m\u001b[0;34m,\u001b[0m \u001b[0;34m\"come\"\u001b[0m\u001b[0;34m,\u001b[0m \u001b[0;34m\"in\"\u001b[0m\u001b[0;34m)\u001b[0m\u001b[0;34m\u001b[0m\u001b[0;34m\u001b[0m\u001b[0m\n\u001b[1;32m      7\u001b[0m \u001b[0mprint\u001b[0m\u001b[0;34m(\u001b[0m\u001b[0mtup\u001b[0m\u001b[0;34m)\u001b[0m\u001b[0;34m\u001b[0m\u001b[0;34m\u001b[0m\u001b[0m\n\u001b[0;32m----> 8\u001b[0;31m \u001b[0mtup\u001b[0m\u001b[0;34m[\u001b[0m\u001b[0;36m4\u001b[0m\u001b[0;34m]\u001b[0m\u001b[0;34m=\u001b[0m\u001b[0;34m\"go\"\u001b[0m\u001b[0;34m\u001b[0m\u001b[0;34m\u001b[0m\u001b[0m\n\u001b[0m\u001b[1;32m      9\u001b[0m \u001b[0mprint\u001b[0m\u001b[0;34m(\u001b[0m\u001b[0mtup\u001b[0m\u001b[0;34m)\u001b[0m\u001b[0;34m\u001b[0m\u001b[0;34m\u001b[0m\u001b[0m\n",
            "\u001b[0;31mTypeError\u001b[0m: 'tuple' object does not support item assignment"
          ]
        }
      ]
    },
    {
      "cell_type": "code",
      "source": [
        "def mutable_and_immutable(num, lst):\n",
        "\n",
        "    print(f\"num = {num}, lst = {lst}\")\n",
        "\n",
        "    num += 10\n",
        "    lst.append(100)\n",
        "\n",
        "\n",
        "    print(f\"num = {num}, lst = {lst}\")\n",
        "x = 5\n",
        "my_list = [1, 2, 3]\n",
        "\n",
        "mutable_and_immutable(x, my_list)\n",
        "\n",
        "\n",
        "print(f\"x = {x}, my_list = {my_list}\")"
      ],
      "metadata": {
        "colab": {
          "base_uri": "https://localhost:8080/"
        },
        "id": "40M0NCDZe9jP",
        "outputId": "fe1f0adc-647c-40aa-cc9a-17105fc8e81f"
      },
      "execution_count": 11,
      "outputs": [
        {
          "output_type": "stream",
          "name": "stdout",
          "text": [
            "num = 5, lst = [1, 2, 3]\n",
            "num = 15, lst = [1, 2, 3, 100]\n",
            "x = 5, my_list = [1, 2, 3, 100]\n"
          ]
        }
      ]
    },
    {
      "cell_type": "code",
      "source": [
        "\n",
        "\n",
        "num1 = float(input(\"Enter first number: \"))\n",
        "num2 = float(input(\"Enter second number: \"))\n",
        "\n",
        "print(\"Select operation:\")\n",
        "print(\"1.Add\")\n",
        "print(\"2.Subtract\")\n",
        "print(\"3.Multiply\")\n",
        "print(\"4.Divide\")\n",
        "\n",
        "choice = input(\"Enter choice(1/2/3/4): \")\n",
        "\n",
        "if choice == '1':\n",
        "  print(num1, \"+\", num2, \"=\", num1 + num2)\n",
        "elif choice == '2':\n",
        "  print(num1, \"-\", num2, \"=\", num1 - num2)\n",
        "elif choice == '3':\n",
        "  print(num1, \"*\", num2, \"=\", num1 * num2)\n",
        "elif choice == '4':\n",
        "  if num2 == 0:\n",
        "    print(\"Cannot divide by zero\")\n",
        "  else:\n",
        "    print(num1, \"/\", num2, \"=\", num1 / num2)\n",
        "else:\n",
        "  print(\"Invalid input\")"
      ],
      "metadata": {
        "colab": {
          "base_uri": "https://localhost:8080/",
          "height": 373
        },
        "id": "W8L-WrGJjKLa",
        "outputId": "b9a7e40d-e73c-464a-eec8-1deacfa95cdf"
      },
      "execution_count": 12,
      "outputs": [
        {
          "output_type": "error",
          "ename": "KeyboardInterrupt",
          "evalue": "Interrupted by user",
          "traceback": [
            "\u001b[0;31m---------------------------------------------------------------------------\u001b[0m",
            "\u001b[0;31mKeyboardInterrupt\u001b[0m                         Traceback (most recent call last)",
            "\u001b[0;32m/tmp/ipython-input-12-2871894850.py\u001b[0m in \u001b[0;36m<cell line: 0>\u001b[0;34m()\u001b[0m\n\u001b[0;32m----> 1\u001b[0;31m \u001b[0mnum1\u001b[0m \u001b[0;34m=\u001b[0m \u001b[0mfloat\u001b[0m\u001b[0;34m(\u001b[0m\u001b[0minput\u001b[0m\u001b[0;34m(\u001b[0m\u001b[0;34m\"Enter first number: \"\u001b[0m\u001b[0;34m)\u001b[0m\u001b[0;34m)\u001b[0m\u001b[0;34m\u001b[0m\u001b[0;34m\u001b[0m\u001b[0m\n\u001b[0m\u001b[1;32m      2\u001b[0m \u001b[0mnum2\u001b[0m \u001b[0;34m=\u001b[0m \u001b[0mfloat\u001b[0m\u001b[0;34m(\u001b[0m\u001b[0minput\u001b[0m\u001b[0;34m(\u001b[0m\u001b[0;34m\"Enter second number: \"\u001b[0m\u001b[0;34m)\u001b[0m\u001b[0;34m)\u001b[0m\u001b[0;34m\u001b[0m\u001b[0;34m\u001b[0m\u001b[0m\n\u001b[1;32m      3\u001b[0m \u001b[0;34m\u001b[0m\u001b[0m\n\u001b[1;32m      4\u001b[0m \u001b[0mprint\u001b[0m\u001b[0;34m(\u001b[0m\u001b[0;34m\"Select operation:\"\u001b[0m\u001b[0;34m)\u001b[0m\u001b[0;34m\u001b[0m\u001b[0;34m\u001b[0m\u001b[0m\n\u001b[1;32m      5\u001b[0m \u001b[0mprint\u001b[0m\u001b[0;34m(\u001b[0m\u001b[0;34m\"1.Add\"\u001b[0m\u001b[0;34m)\u001b[0m\u001b[0;34m\u001b[0m\u001b[0;34m\u001b[0m\u001b[0m\n",
            "\u001b[0;32m/usr/local/lib/python3.11/dist-packages/ipykernel/kernelbase.py\u001b[0m in \u001b[0;36mraw_input\u001b[0;34m(self, prompt)\u001b[0m\n\u001b[1;32m   1175\u001b[0m                 \u001b[0;34m\"raw_input was called, but this frontend does not support input requests.\"\u001b[0m\u001b[0;34m\u001b[0m\u001b[0;34m\u001b[0m\u001b[0m\n\u001b[1;32m   1176\u001b[0m             )\n\u001b[0;32m-> 1177\u001b[0;31m         return self._input_request(\n\u001b[0m\u001b[1;32m   1178\u001b[0m             \u001b[0mstr\u001b[0m\u001b[0;34m(\u001b[0m\u001b[0mprompt\u001b[0m\u001b[0;34m)\u001b[0m\u001b[0;34m,\u001b[0m\u001b[0;34m\u001b[0m\u001b[0;34m\u001b[0m\u001b[0m\n\u001b[1;32m   1179\u001b[0m             \u001b[0mself\u001b[0m\u001b[0;34m.\u001b[0m\u001b[0m_parent_ident\u001b[0m\u001b[0;34m[\u001b[0m\u001b[0;34m\"shell\"\u001b[0m\u001b[0;34m]\u001b[0m\u001b[0;34m,\u001b[0m\u001b[0;34m\u001b[0m\u001b[0;34m\u001b[0m\u001b[0m\n",
            "\u001b[0;32m/usr/local/lib/python3.11/dist-packages/ipykernel/kernelbase.py\u001b[0m in \u001b[0;36m_input_request\u001b[0;34m(self, prompt, ident, parent, password)\u001b[0m\n\u001b[1;32m   1217\u001b[0m             \u001b[0;32mexcept\u001b[0m \u001b[0mKeyboardInterrupt\u001b[0m\u001b[0;34m:\u001b[0m\u001b[0;34m\u001b[0m\u001b[0;34m\u001b[0m\u001b[0m\n\u001b[1;32m   1218\u001b[0m                 \u001b[0;31m# re-raise KeyboardInterrupt, to truncate traceback\u001b[0m\u001b[0;34m\u001b[0m\u001b[0;34m\u001b[0m\u001b[0m\n\u001b[0;32m-> 1219\u001b[0;31m                 \u001b[0;32mraise\u001b[0m \u001b[0mKeyboardInterrupt\u001b[0m\u001b[0;34m(\u001b[0m\u001b[0;34m\"Interrupted by user\"\u001b[0m\u001b[0;34m)\u001b[0m \u001b[0;32mfrom\u001b[0m \u001b[0;32mNone\u001b[0m\u001b[0;34m\u001b[0m\u001b[0;34m\u001b[0m\u001b[0m\n\u001b[0m\u001b[1;32m   1220\u001b[0m             \u001b[0;32mexcept\u001b[0m \u001b[0mException\u001b[0m\u001b[0;34m:\u001b[0m\u001b[0;34m\u001b[0m\u001b[0;34m\u001b[0m\u001b[0m\n\u001b[1;32m   1221\u001b[0m                 \u001b[0mself\u001b[0m\u001b[0;34m.\u001b[0m\u001b[0mlog\u001b[0m\u001b[0;34m.\u001b[0m\u001b[0mwarning\u001b[0m\u001b[0;34m(\u001b[0m\u001b[0;34m\"Invalid Message:\"\u001b[0m\u001b[0;34m,\u001b[0m \u001b[0mexc_info\u001b[0m\u001b[0;34m=\u001b[0m\u001b[0;32mTrue\u001b[0m\u001b[0;34m)\u001b[0m\u001b[0;34m\u001b[0m\u001b[0;34m\u001b[0m\u001b[0m\n",
            "\u001b[0;31mKeyboardInterrupt\u001b[0m: Interrupted by user"
          ]
        }
      ]
    },
    {
      "cell_type": "code",
      "source": [
        "\n",
        "\n",
        "is_sunny = True\n",
        "is_warm = False\n",
        "\n",
        "if is_sunny and is_warm:# dono conditions true honi chahiye\n",
        "  print(\"It's a nice day for a picnic.\")\n",
        "elif is_sunny or is_warm:# koi ek bhi condition true ho toh chal jata hai\n",
        "  print(\"It's either sunny or warm, maybe both.\")\n",
        "else:\n",
        "  print(\"It's neither sunny nor warm.\")\n",
        "\n",
        "is_raining = False\n",
        "if not is_raining:\n",
        "  print(\"It's not raining.\")\n",
        "\n",
        "x = 5\n",
        "y = 10\n",
        "z = 5\n",
        "\n",
        "print(x == z)\n",
        "print(x != y)\n",
        "print(x < y and z <= x)\n",
        "print(y > x or y == z)"
      ],
      "metadata": {
        "colab": {
          "base_uri": "https://localhost:8080/"
        },
        "id": "i-Xo0dxXjeqs",
        "outputId": "e0795af2-69f1-40c3-a61f-67f0010b2e93"
      },
      "execution_count": 13,
      "outputs": [
        {
          "output_type": "stream",
          "name": "stdout",
          "text": [
            "It's either sunny or warm, maybe both.\n",
            "It's not raining.\n",
            "True\n",
            "True\n",
            "True\n",
            "True\n"
          ]
        }
      ]
    },
    {
      "cell_type": "code",
      "source": [
        "\n",
        "\n",
        "user = input(\"Enter a string: \")\n",
        "\n",
        "try:\n",
        "    integer_value = int(user)\n",
        "    print(\"Integer conversion:\", integer_value)\n",
        "except ValueError:\n",
        "    print(\"Could not convert to integer.\")\n",
        "\n",
        "try:\n",
        "    float_value = float(user)\n",
        "    print(\"Float conversion:\", float_value)\n",
        "except ValueError:\n",
        "    print(\"Could not convert to float.\")\n",
        "\n",
        "if user.lower() == 'true':\n",
        "    boolean_value = True\n",
        "    print(\"Boolean conversion:\", boolean_value)\n",
        "elif user.lower() == 'false':\n",
        "    boolean_value = False\n",
        "    print(\"Boolean conversion:\", boolean_value)\n",
        "else:\n",
        "    print(\"Could not convert to boolean.\")"
      ],
      "metadata": {
        "colab": {
          "base_uri": "https://localhost:8080/"
        },
        "id": "gbOIvKAvlPhh",
        "outputId": "73063859-d214-4f4d-8140-6cfc347121ab"
      },
      "execution_count": 17,
      "outputs": [
        {
          "output_type": "stream",
          "name": "stdout",
          "text": [
            "Enter a string: true\n",
            "Could not convert to integer.\n",
            "Could not convert to float.\n",
            "Boolean conversion: True\n"
          ]
        }
      ]
    },
    {
      "cell_type": "code",
      "source": [
        "\n",
        "\n",
        "my_list = [\"1\", \"2\", \"3\", \"4.5\", \"True\"]\n",
        "\n",
        "\n",
        "int_list = [int(item) for item in my_list[:3]]\n",
        "print(\"List after casting to integers:\", int_list)\n",
        "float_list = [float(item) for item in my_list[:4]]\n",
        "print(\"List after casting to floats:\", float_list)\n",
        "bool_element = bool(my_list[4])\n",
        "print(\"Casting element to boolean:\", bool_element)"
      ],
      "metadata": {
        "colab": {
          "base_uri": "https://localhost:8080/"
        },
        "id": "dTI1E39RnWYE",
        "outputId": "4117034c-998f-4515-aba9-decc97558d7f"
      },
      "execution_count": 18,
      "outputs": [
        {
          "output_type": "stream",
          "name": "stdout",
          "text": [
            "List after casting to integers: [1, 2, 3]\n",
            "List after casting to floats: [1.0, 2.0, 3.0, 4.5]\n",
            "Casting element to boolean: True\n"
          ]
        }
      ]
    },
    {
      "cell_type": "code",
      "source": [
        "n = int(input())\n",
        "if n > 0:\n",
        "    print(\"Positive\")\n",
        "elif n < 0:\n",
        "    print(\"Negative\")\n",
        "else:\n",
        "    print(\"Zero\")"
      ],
      "metadata": {
        "colab": {
          "base_uri": "https://localhost:8080/"
        },
        "id": "KDXyTw2tonGM",
        "outputId": "d3416279-36f1-41dd-ccf9-f2a5e94fb4a3"
      },
      "execution_count": 24,
      "outputs": [
        {
          "output_type": "stream",
          "name": "stdout",
          "text": [
            "32\n",
            "Positive\n"
          ]
        }
      ]
    },
    {
      "cell_type": "code",
      "source": [
        "for i in range(1, 11, 1):\n",
        "    print(i)"
      ],
      "metadata": {
        "colab": {
          "base_uri": "https://localhost:8080/"
        },
        "id": "1yUH-Xy9ooiu",
        "outputId": "c136a153-e53d-418d-c486-b323fab4741a"
      },
      "execution_count": 21,
      "outputs": [
        {
          "output_type": "stream",
          "name": "stdout",
          "text": [
            "1\n",
            "2\n",
            "3\n",
            "4\n",
            "5\n",
            "6\n",
            "7\n",
            "8\n",
            "9\n",
            "10\n"
          ]
        }
      ]
    },
    {
      "cell_type": "code",
      "source": [
        "s = 0\n",
        "for i in range(2, 51, 2):\n",
        "    s += i\n",
        "print(s)"
      ],
      "metadata": {
        "colab": {
          "base_uri": "https://localhost:8080/"
        },
        "id": "nsc3GeG_oyob",
        "outputId": "3f0b8355-b806-48d3-868c-53330250c866"
      },
      "execution_count": 23,
      "outputs": [
        {
          "output_type": "stream",
          "name": "stdout",
          "text": [
            "650\n"
          ]
        }
      ]
    },
    {
      "cell_type": "code",
      "source": [
        "n = int(input())\n",
        "f = 1\n",
        "while n > 0:\n",
        "    f *= n\n",
        "    n -=1\n",
        "print(f)"
      ],
      "metadata": {
        "colab": {
          "base_uri": "https://localhost:8080/"
        },
        "id": "OIx56K3BpSca",
        "outputId": "4e52e21b-3870-40df-841f-4b2c465eae89"
      },
      "execution_count": 26,
      "outputs": [
        {
          "output_type": "stream",
          "name": "stdout",
          "text": [
            "33\n",
            "8683317618811886495518194401280000000\n"
          ]
        }
      ]
    },
    {
      "cell_type": "code",
      "source": [
        "s = input()\n",
        "r = ''\n",
        "i = len(s) - 1\n",
        "while i >= 0:\n",
        "    r += s[i]\n",
        "    i -= 1\n",
        "print(r)"
      ],
      "metadata": {
        "colab": {
          "base_uri": "https://localhost:8080/"
        },
        "id": "sD2UpoQopbNM",
        "outputId": "30a5e479-0ca1-4e7a-f640-7ce02e1f4168"
      },
      "execution_count": 27,
      "outputs": [
        {
          "output_type": "stream",
          "name": "stdout",
          "text": [
            "eww\n",
            "wwe\n"
          ]
        }
      ]
    }
  ]
}